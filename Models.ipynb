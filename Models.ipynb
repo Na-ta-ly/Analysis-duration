{
 "cells": [
  {
   "cell_type": "code",
   "execution_count": 1,
   "id": "5c67c17e",
   "metadata": {
    "editable": true,
    "slideshow": {
     "slide_type": ""
    },
    "tags": []
   },
   "outputs": [],
   "source": [
    "import numpy as np\n",
    "import pandas as pd"
   ]
  },
  {
   "cell_type": "code",
   "execution_count": 2,
   "id": "7941e3b1",
   "metadata": {
    "editable": true,
    "slideshow": {
     "slide_type": ""
    },
    "tags": []
   },
   "outputs": [
    {
     "data": {
      "text/html": [
       "<div>\n",
       "<style scoped>\n",
       "    .dataframe tbody tr th:only-of-type {\n",
       "        vertical-align: middle;\n",
       "    }\n",
       "\n",
       "    .dataframe tbody tr th {\n",
       "        vertical-align: top;\n",
       "    }\n",
       "\n",
       "    .dataframe thead th {\n",
       "        text-align: right;\n",
       "    }\n",
       "</style>\n",
       "<table border=\"1\" class=\"dataframe\">\n",
       "  <thead>\n",
       "    <tr style=\"text-align: right;\">\n",
       "      <th></th>\n",
       "      <th>Protocol_number</th>\n",
       "      <th>Product</th>\n",
       "      <th>Component_1</th>\n",
       "      <th>Component_2</th>\n",
       "      <th>Component_3</th>\n",
       "      <th>Component_4</th>\n",
       "      <th>Component_5</th>\n",
       "      <th>Component_6</th>\n",
       "      <th>Component_7</th>\n",
       "      <th>Component_8</th>\n",
       "      <th>...</th>\n",
       "      <th>Component_126</th>\n",
       "      <th>Component_127</th>\n",
       "      <th>Component_128</th>\n",
       "      <th>Component_129</th>\n",
       "      <th>Component_130</th>\n",
       "      <th>Component_131</th>\n",
       "      <th>Component_132</th>\n",
       "      <th>Days_analysis</th>\n",
       "      <th>Year</th>\n",
       "      <th>Samples_number</th>\n",
       "    </tr>\n",
       "  </thead>\n",
       "  <tbody>\n",
       "    <tr>\n",
       "      <th>0</th>\n",
       "      <td>8107</td>\n",
       "      <td>427</td>\n",
       "      <td>1</td>\n",
       "      <td>0</td>\n",
       "      <td>0</td>\n",
       "      <td>0</td>\n",
       "      <td>0</td>\n",
       "      <td>0</td>\n",
       "      <td>0</td>\n",
       "      <td>0</td>\n",
       "      <td>...</td>\n",
       "      <td>0</td>\n",
       "      <td>0</td>\n",
       "      <td>0</td>\n",
       "      <td>0</td>\n",
       "      <td>0</td>\n",
       "      <td>0</td>\n",
       "      <td>0</td>\n",
       "      <td>23.0</td>\n",
       "      <td>2020</td>\n",
       "      <td>218</td>\n",
       "    </tr>\n",
       "    <tr>\n",
       "      <th>1</th>\n",
       "      <td>4553</td>\n",
       "      <td>427</td>\n",
       "      <td>1</td>\n",
       "      <td>0</td>\n",
       "      <td>0</td>\n",
       "      <td>0</td>\n",
       "      <td>0</td>\n",
       "      <td>0</td>\n",
       "      <td>0</td>\n",
       "      <td>0</td>\n",
       "      <td>...</td>\n",
       "      <td>0</td>\n",
       "      <td>0</td>\n",
       "      <td>0</td>\n",
       "      <td>0</td>\n",
       "      <td>0</td>\n",
       "      <td>0</td>\n",
       "      <td>0</td>\n",
       "      <td>23.0</td>\n",
       "      <td>2020</td>\n",
       "      <td>218</td>\n",
       "    </tr>\n",
       "    <tr>\n",
       "      <th>2</th>\n",
       "      <td>9831</td>\n",
       "      <td>427</td>\n",
       "      <td>1</td>\n",
       "      <td>0</td>\n",
       "      <td>0</td>\n",
       "      <td>0</td>\n",
       "      <td>0</td>\n",
       "      <td>0</td>\n",
       "      <td>0</td>\n",
       "      <td>0</td>\n",
       "      <td>...</td>\n",
       "      <td>0</td>\n",
       "      <td>0</td>\n",
       "      <td>0</td>\n",
       "      <td>0</td>\n",
       "      <td>0</td>\n",
       "      <td>0</td>\n",
       "      <td>0</td>\n",
       "      <td>18.0</td>\n",
       "      <td>2020</td>\n",
       "      <td>163</td>\n",
       "    </tr>\n",
       "    <tr>\n",
       "      <th>3</th>\n",
       "      <td>10580</td>\n",
       "      <td>427</td>\n",
       "      <td>1</td>\n",
       "      <td>0</td>\n",
       "      <td>0</td>\n",
       "      <td>0</td>\n",
       "      <td>0</td>\n",
       "      <td>0</td>\n",
       "      <td>0</td>\n",
       "      <td>0</td>\n",
       "      <td>...</td>\n",
       "      <td>0</td>\n",
       "      <td>0</td>\n",
       "      <td>0</td>\n",
       "      <td>0</td>\n",
       "      <td>0</td>\n",
       "      <td>0</td>\n",
       "      <td>0</td>\n",
       "      <td>16.0</td>\n",
       "      <td>2020</td>\n",
       "      <td>360</td>\n",
       "    </tr>\n",
       "    <tr>\n",
       "      <th>4</th>\n",
       "      <td>1238</td>\n",
       "      <td>427</td>\n",
       "      <td>1</td>\n",
       "      <td>0</td>\n",
       "      <td>0</td>\n",
       "      <td>0</td>\n",
       "      <td>0</td>\n",
       "      <td>0</td>\n",
       "      <td>0</td>\n",
       "      <td>0</td>\n",
       "      <td>...</td>\n",
       "      <td>0</td>\n",
       "      <td>0</td>\n",
       "      <td>0</td>\n",
       "      <td>0</td>\n",
       "      <td>0</td>\n",
       "      <td>0</td>\n",
       "      <td>0</td>\n",
       "      <td>27.0</td>\n",
       "      <td>2020</td>\n",
       "      <td>234</td>\n",
       "    </tr>\n",
       "  </tbody>\n",
       "</table>\n",
       "<p>5 rows × 136 columns</p>\n",
       "</div>"
      ],
      "text/plain": [
       "   Protocol_number  Product  Component_1  Component_2  Component_3  \\\n",
       "0             8107      427            1            0            0   \n",
       "1             4553      427            1            0            0   \n",
       "2             9831      427            1            0            0   \n",
       "3            10580      427            1            0            0   \n",
       "4             1238      427            1            0            0   \n",
       "\n",
       "   Component_4  Component_5  Component_6  Component_7  Component_8  ...  \\\n",
       "0            0            0            0            0            0  ...   \n",
       "1            0            0            0            0            0  ...   \n",
       "2            0            0            0            0            0  ...   \n",
       "3            0            0            0            0            0  ...   \n",
       "4            0            0            0            0            0  ...   \n",
       "\n",
       "   Component_126  Component_127  Component_128  Component_129  Component_130  \\\n",
       "0              0              0              0              0              0   \n",
       "1              0              0              0              0              0   \n",
       "2              0              0              0              0              0   \n",
       "3              0              0              0              0              0   \n",
       "4              0              0              0              0              0   \n",
       "\n",
       "   Component_131  Component_132  Days_analysis  Year  Samples_number  \n",
       "0              0              0           23.0  2020             218  \n",
       "1              0              0           23.0  2020             218  \n",
       "2              0              0           18.0  2020             163  \n",
       "3              0              0           16.0  2020             360  \n",
       "4              0              0           27.0  2020             234  \n",
       "\n",
       "[5 rows x 136 columns]"
      ]
     },
     "execution_count": 2,
     "metadata": {},
     "output_type": "execute_result"
    }
   ],
   "source": [
    "data = pd.read_csv('clean_data.csv')\n",
    "data.head()"
   ]
  },
  {
   "cell_type": "markdown",
   "id": "82dfa327-b423-4e64-8ea6-119f0261ce6f",
   "metadata": {},
   "source": [
    "# Построение модели для определения вклада каждого компонента\n",
    "Теперь построим модели для прогнозирования количества дней на основании состава продукта и количества образцов для анализа."
   ]
  },
  {
   "cell_type": "markdown",
   "id": "3bb6a0f4-58e4-4989-b8c2-b683f59dfd17",
   "metadata": {},
   "source": [
    "Для этого построим линейную регрессию."
   ]
  },
  {
   "cell_type": "code",
   "execution_count": 6,
   "id": "bedcc1a0",
   "metadata": {},
   "outputs": [],
   "source": [
    "from sklearn.model_selection import train_test_split\n",
    "from sklearn.preprocessing import StandardScaler\n",
    "X = data.drop(['Protocol_number', 'Product', 'Days_analysis', 'Year'], axis=1)\n",
    "Y = data['Days_analysis']\n",
    "X_train, X_test, y_train, y_test = train_test_split(X, Y, test_size=0.3, random_state=18)"
   ]
  },
  {
   "cell_type": "code",
   "execution_count": 3,
   "id": "82000b3d",
   "metadata": {
    "editable": true,
    "slideshow": {
     "slide_type": ""
    },
    "tags": []
   },
   "outputs": [],
   "source": [
    "def rmse(y_pred, y):\n",
    "    return np.sqrt(mean_squared_error(y_pred, y))"
   ]
  },
  {
   "cell_type": "code",
   "execution_count": 4,
   "id": "0d63e4f4",
   "metadata": {},
   "outputs": [],
   "source": [
    "from sklearn.metrics import r2_score, mean_squared_error, mean_absolute_error\n",
    "def err_check(y_train, y_train_pred, y_test, y_pred):   \n",
    "    print('MAE train: ', np.round(mean_absolute_error(y_train, y_train_pred), 2))\n",
    "    print('MAE test: ', np.round(mean_absolute_error(y_test, y_pred), 2))\n",
    "    print('RMSE train: ', np.round(rmse(y_train, y_train_pred), 2))\n",
    "    print('RMSE test: ', np.round(rmse(y_test, y_pred), 2))\n",
    "    print('R2 train: ', np.round(r2_score(y_train, y_train_pred), 2))\n",
    "    print('R2 test: ', np.round(r2_score(y_test, y_pred), 2))"
   ]
  },
  {
   "cell_type": "code",
   "execution_count": 6,
   "id": "b3117584",
   "metadata": {},
   "outputs": [
    {
     "name": "stdout",
     "output_type": "stream",
     "text": [
      "MAE train:  8.42\n",
      "MAE test:  8.67\n",
      "RMSE train:  11.07\n",
      "RMSE test:  11.31\n",
      "R2 train:  0.31\n",
      "R2 test:  0.29\n"
     ]
    }
   ],
   "source": [
    "from sklearn.linear_model import LinearRegression\n",
    "\n",
    "model = LinearRegression()\n",
    "model.fit(X_train, y_train)\n",
    "y_pred = model.predict(X_test)\n",
    "y_train_pred = model.predict(X_train)\n",
    "err_check(y_train, y_train_pred, y_test, y_pred)"
   ]
  },
  {
   "cell_type": "code",
   "execution_count": 7,
   "id": "17af432f",
   "metadata": {
    "editable": true,
    "slideshow": {
     "slide_type": ""
    },
    "tags": []
   },
   "outputs": [
    {
     "data": {
      "text/plain": [
       "array([ 1.19874917e+00, -2.92737001e+00,  3.02957733e+00,  1.01020464e+00,\n",
       "       -8.38356931e-01, -1.92678078e+00, -1.16662012e+00,  5.08792939e+00,\n",
       "        1.04162065e+00,  1.69213304e+00,  2.17378127e+00,  3.39255689e+00,\n",
       "        5.11635751e-02,  3.65452777e+00, -3.91661710e+00,  1.67344297e+01,\n",
       "       -8.45440443e-01, -4.77601398e+00, -4.97672616e+00, -3.25204771e+00,\n",
       "       -5.90243410e+00, -6.03954065e+00, -1.15342437e+01,  1.89862682e+00,\n",
       "        5.41620874e+00, -7.10407624e-01,  4.69915380e+00, -6.33168815e+00,\n",
       "        2.65038638e+00, -1.78625427e+01, -6.50004498e-01, -2.04190226e+00,\n",
       "       -6.50004498e-01,  1.47256426e+00, -5.61225917e+00, -6.41543544e+00,\n",
       "        5.55387345e+00, -3.78464790e+00, -1.79556451e+00, -1.01488824e+00,\n",
       "        1.75815081e+00, -3.51720846e+00, -2.44978845e+00, -8.75132191e-01,\n",
       "       -3.02073006e-01,  7.54618313e-01,  1.49935262e+00,  3.33140318e+00,\n",
       "       -3.82274555e+00,  7.34781520e+00, -4.17748361e+00,  4.44587597e+00,\n",
       "        5.00193366e-01,  1.11743697e+00,  4.40939979e+00, -5.42714822e-01,\n",
       "       -2.17880368e+00, -5.37160308e+00, -5.39666025e+00,  4.68751603e+00,\n",
       "       -3.23706134e+00, -5.03259052e-01, -1.27505416e+01,  4.58667916e+00,\n",
       "        2.75301243e+00, -6.27421749e+00, -4.13891334e+00, -1.54566427e+00,\n",
       "        3.32271160e-01, -2.12157973e+00,  6.46743657e+00,  7.33377623e+00,\n",
       "       -1.21551237e+01, -7.15498175e+00, -6.53106866e+00, -1.30277476e+01,\n",
       "       -5.49759219e+00,  1.54604679e+00,  3.45551330e+00,  1.00913898e+00,\n",
       "        5.12724268e+00, -7.77119279e+00, -2.41912565e+00, -1.08188697e+01,\n",
       "       -2.08021204e+00, -1.46003148e+00,  5.49438104e+00, -7.16782747e+00,\n",
       "        7.48123486e-02,  8.28267980e+00, -5.05310993e-01,  4.84053125e+00,\n",
       "        1.13320227e+00,  1.41621897e+01,  3.50210498e+00, -1.11538957e+01,\n",
       "        1.04895961e+00, -3.17970055e+00,  2.41027615e+00,  7.40284122e+00,\n",
       "        7.40284122e+00,  7.40284122e+00,  1.01737474e+01,  9.91972027e-01,\n",
       "        9.53847490e-01, -8.48318348e-01,  4.44089210e-16, -1.32792047e+00,\n",
       "       -5.90243410e+00,  6.66220106e+00, -1.16950247e+01, -5.79893101e+00,\n",
       "       -4.07306378e+00, -1.59178032e+00,  5.24407324e+00,  2.54467693e+00,\n",
       "        1.38139037e+01,  1.27894393e+00,  5.24407324e+00,  3.88347641e+00,\n",
       "       -3.25948243e+00,  4.82513927e+00, -1.55832540e+00, -7.21843697e+00,\n",
       "        1.91552903e+01, -1.52168354e+00, -4.73020543e+00,  1.13128578e+01,\n",
       "        2.22934159e+01, -1.15993236e-01,  6.66108363e+00,  4.35187389e-02])"
      ]
     },
     "execution_count": 7,
     "metadata": {},
     "output_type": "execute_result"
    }
   ],
   "source": [
    "model.coef_"
   ]
  },
  {
   "cell_type": "code",
   "execution_count": 8,
   "id": "5f297e5d",
   "metadata": {},
   "outputs": [
    {
     "data": {
      "text/html": [
       "<div>\n",
       "<style scoped>\n",
       "    .dataframe tbody tr th:only-of-type {\n",
       "        vertical-align: middle;\n",
       "    }\n",
       "\n",
       "    .dataframe tbody tr th {\n",
       "        vertical-align: top;\n",
       "    }\n",
       "\n",
       "    .dataframe thead th {\n",
       "        text-align: right;\n",
       "    }\n",
       "</style>\n",
       "<table border=\"1\" class=\"dataframe\">\n",
       "  <thead>\n",
       "    <tr style=\"text-align: right;\">\n",
       "      <th></th>\n",
       "      <th>Importance</th>\n",
       "    </tr>\n",
       "  </thead>\n",
       "  <tbody>\n",
       "    <tr>\n",
       "      <th>Component_130</th>\n",
       "      <td>22.293416</td>\n",
       "    </tr>\n",
       "    <tr>\n",
       "      <th>Component_126</th>\n",
       "      <td>19.155290</td>\n",
       "    </tr>\n",
       "    <tr>\n",
       "      <th>Component_16</th>\n",
       "      <td>16.734430</td>\n",
       "    </tr>\n",
       "    <tr>\n",
       "      <th>Component_94</th>\n",
       "      <td>14.162190</td>\n",
       "    </tr>\n",
       "    <tr>\n",
       "      <th>Component_117</th>\n",
       "      <td>13.813904</td>\n",
       "    </tr>\n",
       "    <tr>\n",
       "      <th>Component_129</th>\n",
       "      <td>11.312858</td>\n",
       "    </tr>\n",
       "    <tr>\n",
       "      <th>Component_103</th>\n",
       "      <td>10.173747</td>\n",
       "    </tr>\n",
       "    <tr>\n",
       "      <th>Component_90</th>\n",
       "      <td>8.282680</td>\n",
       "    </tr>\n",
       "    <tr>\n",
       "      <th>Component_102</th>\n",
       "      <td>7.402841</td>\n",
       "    </tr>\n",
       "    <tr>\n",
       "      <th>Component_100</th>\n",
       "      <td>7.402841</td>\n",
       "    </tr>\n",
       "    <tr>\n",
       "      <th>Component_101</th>\n",
       "      <td>7.402841</td>\n",
       "    </tr>\n",
       "    <tr>\n",
       "      <th>Component_50</th>\n",
       "      <td>7.347815</td>\n",
       "    </tr>\n",
       "    <tr>\n",
       "      <th>Component_72</th>\n",
       "      <td>7.333776</td>\n",
       "    </tr>\n",
       "    <tr>\n",
       "      <th>Component_110</th>\n",
       "      <td>6.662201</td>\n",
       "    </tr>\n",
       "    <tr>\n",
       "      <th>Component_132</th>\n",
       "      <td>6.661084</td>\n",
       "    </tr>\n",
       "    <tr>\n",
       "      <th>Component_71</th>\n",
       "      <td>6.467437</td>\n",
       "    </tr>\n",
       "    <tr>\n",
       "      <th>Component_37</th>\n",
       "      <td>5.553873</td>\n",
       "    </tr>\n",
       "    <tr>\n",
       "      <th>Component_87</th>\n",
       "      <td>5.494381</td>\n",
       "    </tr>\n",
       "    <tr>\n",
       "      <th>Component_25</th>\n",
       "      <td>5.416209</td>\n",
       "    </tr>\n",
       "    <tr>\n",
       "      <th>Component_115</th>\n",
       "      <td>5.244073</td>\n",
       "    </tr>\n",
       "  </tbody>\n",
       "</table>\n",
       "</div>"
      ],
      "text/plain": [
       "               Importance\n",
       "Component_130   22.293416\n",
       "Component_126   19.155290\n",
       "Component_16    16.734430\n",
       "Component_94    14.162190\n",
       "Component_117   13.813904\n",
       "Component_129   11.312858\n",
       "Component_103   10.173747\n",
       "Component_90     8.282680\n",
       "Component_102    7.402841\n",
       "Component_100    7.402841\n",
       "Component_101    7.402841\n",
       "Component_50     7.347815\n",
       "Component_72     7.333776\n",
       "Component_110    6.662201\n",
       "Component_132    6.661084\n",
       "Component_71     6.467437\n",
       "Component_37     5.553873\n",
       "Component_87     5.494381\n",
       "Component_25     5.416209\n",
       "Component_115    5.244073"
      ]
     },
     "execution_count": 8,
     "metadata": {},
     "output_type": "execute_result"
    }
   ],
   "source": [
    "feature_importance = pd.DataFrame(data=model.coef_, index=X.columns, columns=['Importance'])\n",
    "feature_importance = feature_importance.sort_values('Importance', axis=0, ascending=False)\n",
    "feature_importance.to_csv('feature importance.csv')\n",
    "feature_importance.head(20)"
   ]
  },
  {
   "cell_type": "markdown",
   "id": "f01c9e65-c22e-4d8f-8e47-62d3563bcdc4",
   "metadata": {},
   "source": [
    "# Построение модели для прогнозирования"
   ]
  },
  {
   "cell_type": "markdown",
   "id": "495c7279-5309-4f23-8210-e62c26c4a102",
   "metadata": {},
   "source": [
    "Теперь построим модели для прогнозирования количества дней на основании состава продукта и количества образцов для анализа."
   ]
  },
  {
   "cell_type": "code",
   "execution_count": 9,
   "id": "4d82adb4",
   "metadata": {},
   "outputs": [
    {
     "data": {
      "text/plain": [
       "19.31"
      ]
     },
     "execution_count": 9,
     "metadata": {},
     "output_type": "execute_result"
    }
   ],
   "source": [
    "np.round(data['Days_analysis'].mean(), 2)"
   ]
  },
  {
   "cell_type": "markdown",
   "id": "e26711d5-53d1-4b40-9455-270673bd4984",
   "metadata": {},
   "source": [
    "Среднее количество дней на анализы продукта 19,31. Будем использовать это значение для оценки результатов.\n",
    "\n",
    "Для получения эффективной модели используем градиентный бустинг. Подберем эффективные параметры."
   ]
  },
  {
   "cell_type": "code",
   "execution_count": 10,
   "id": "ea588571-b3f5-4dec-ba18-1cd5aa1d12da",
   "metadata": {},
   "outputs": [],
   "source": [
    "X = data.drop(['Protocol_number', 'Product', 'Days_analysis', 'Year'], axis=1)\n",
    "Y = data['Days_analysis']\n",
    "X_train, X_test, y_train, y_test = train_test_split(X, Y, test_size=0.3, random_state=18)"
   ]
  },
  {
   "cell_type": "code",
   "execution_count": 8,
   "id": "2abfb30c-d786-4fe5-bb46-1ca877e8971b",
   "metadata": {},
   "outputs": [],
   "source": [
    "from sklearn.ensemble import GradientBoostingRegressor\n",
    "from sklearn.model_selection import GridSearchCV"
   ]
  },
  {
   "cell_type": "code",
   "execution_count": 11,
   "id": "a9db8309",
   "metadata": {},
   "outputs": [
    {
     "name": "stdout",
     "output_type": "stream",
     "text": [
      "{'learning_rate': 0.1, 'loss': 'squared_error', 'max_depth': 10, 'min_samples_split': 2, 'n_estimators': 250}\n"
     ]
    }
   ],
   "source": [
    "base_model = GradientBoostingRegressor(random_state=15)\n",
    "param_grid = {'n_estimators':[50,100,500,1000,250],\n",
    "    'max_depth':[3,4,10],\n",
    "    'min_samples_split':[2,5,10],\n",
    "    'learning_rate':[0.01, 0.1, 0.05, 0.25, 1],\n",
    "    'loss':['squared_error','absolute_error', 'huber', 'quantile']}\n",
    "model = GridSearchCV(base_model,param_grid=param_grid)\n",
    "model.fit(X_train, y_train)\n",
    "print(model.best_params_)"
   ]
  },
  {
   "cell_type": "code",
   "execution_count": 13,
   "id": "1b46ee64",
   "metadata": {},
   "outputs": [
    {
     "name": "stdout",
     "output_type": "stream",
     "text": [
      "{'max_depth': 10, 'min_samples_split': 2, 'n_estimators': 300}\n"
     ]
    }
   ],
   "source": [
    "base_model = GradientBoostingRegressor(random_state=15, learning_rate=0.1)\n",
    "param_grid = {'n_estimators':[200, 250, 300],\n",
    "    'max_depth':[7,10,15],\n",
    "    'min_samples_split':[2,3,4]}\n",
    "model = GridSearchCV(base_model,param_grid=param_grid)\n",
    "model.fit(X_train, y_train)\n",
    "print(model.best_params_)"
   ]
  },
  {
   "cell_type": "code",
   "execution_count": 15,
   "id": "12f6d881-0bbb-4ab7-8c99-5d07112f76e6",
   "metadata": {},
   "outputs": [
    {
     "name": "stdout",
     "output_type": "stream",
     "text": [
      "{'max_depth': 10, 'min_samples_split': 2, 'n_estimators': 300}\n"
     ]
    }
   ],
   "source": [
    "base_model = GradientBoostingRegressor(random_state=15, learning_rate=0.1)\n",
    "param_grid = {'n_estimators':[250, 300, 350, 400, 450],\n",
    "    'max_depth':[10, 8, 12],\n",
    "    'min_samples_split':[2]}\n",
    "model = GridSearchCV(base_model,param_grid=param_grid)\n",
    "model.fit(X_train, y_train)\n",
    "print(model.best_params_)"
   ]
  },
  {
   "cell_type": "code",
   "execution_count": 11,
   "id": "d05e95fe",
   "metadata": {},
   "outputs": [
    {
     "name": "stdout",
     "output_type": "stream",
     "text": [
      "MAE train:  4.06\n",
      "MAE test:  5.73\n",
      "RMSE train:  6.63\n",
      "RMSE test:  9.0\n",
      "R2 train:  0.75\n",
      "R2 test:  0.55\n"
     ]
    }
   ],
   "source": [
    "model = GradientBoostingRegressor(random_state=15,\n",
    "                                  learning_rate=0.1,\n",
    "                                  n_estimators=300,\n",
    "                                  max_depth=10,\n",
    "                                  min_samples_split=2)\n",
    "model.fit(X_train, y_train)\n",
    "y_pred = model.predict(X_test)\n",
    "y_train_pred = model.predict(X_train)\n",
    "err_check(y_train, y_train_pred, y_test, y_pred)"
   ]
  },
  {
   "cell_type": "code",
   "execution_count": null,
   "id": "d5d48f53",
   "metadata": {},
   "outputs": [],
   "source": []
  }
 ],
 "metadata": {
  "kernelspec": {
   "display_name": "Python 3 (ipykernel)",
   "language": "python",
   "name": "python3"
  },
  "language_info": {
   "codemirror_mode": {
    "name": "ipython",
    "version": 3
   },
   "file_extension": ".py",
   "mimetype": "text/x-python",
   "name": "python",
   "nbconvert_exporter": "python",
   "pygments_lexer": "ipython3",
   "version": "3.10.9"
  }
 },
 "nbformat": 4,
 "nbformat_minor": 5
}
